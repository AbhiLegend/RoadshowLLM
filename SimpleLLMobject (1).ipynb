{
 "cells": [
  {
   "cell_type": "code",
   "execution_count": 1,
   "metadata": {
    "id": "sONkV0arjZDo"
   },
   "outputs": [
    {
     "name": "stdout",
     "output_type": "stream",
     "text": [
      "Defaulting to user installation because normal site-packages is not writeable\n",
      "Requirement already satisfied: openai in /home/ubcc7c1cfe313981868d5a1db6a845d4/.local/lib/python3.9/site-packages (0.28.1)\n",
      "Requirement already satisfied: requests>=2.20 in /opt/intel/oneapi/intelpython/python3.9/lib/python3.9/site-packages (from openai) (2.31.0)\n",
      "Requirement already satisfied: tqdm in /opt/intel/oneapi/intelpython/python3.9/lib/python3.9/site-packages (from openai) (4.65.0)\n",
      "Requirement already satisfied: aiohttp in /home/ubcc7c1cfe313981868d5a1db6a845d4/.local/lib/python3.9/site-packages (from openai) (3.8.6)\n",
      "Requirement already satisfied: charset-normalizer<4,>=2 in /opt/intel/oneapi/intelpython/python3.9/lib/python3.9/site-packages (from requests>=2.20->openai) (3.1.0)\n",
      "Requirement already satisfied: idna<4,>=2.5 in /opt/intel/oneapi/intelpython/python3.9/lib/python3.9/site-packages (from requests>=2.20->openai) (3.4)\n",
      "Requirement already satisfied: urllib3<3,>=1.21.1 in /opt/intel/oneapi/intelpython/python3.9/lib/python3.9/site-packages (from requests>=2.20->openai) (2.0.3)\n",
      "Requirement already satisfied: certifi>=2017.4.17 in /opt/intel/oneapi/intelpython/python3.9/lib/python3.9/site-packages (from requests>=2.20->openai) (2023.7.22)\n",
      "Requirement already satisfied: attrs>=17.3.0 in /home/ubcc7c1cfe313981868d5a1db6a845d4/.local/lib/python3.9/site-packages (from aiohttp->openai) (23.1.0)\n",
      "Requirement already satisfied: multidict<7.0,>=4.5 in /home/ubcc7c1cfe313981868d5a1db6a845d4/.local/lib/python3.9/site-packages (from aiohttp->openai) (6.0.4)\n",
      "Requirement already satisfied: async-timeout<5.0,>=4.0.0a3 in /home/ubcc7c1cfe313981868d5a1db6a845d4/.local/lib/python3.9/site-packages (from aiohttp->openai) (4.0.3)\n",
      "Requirement already satisfied: yarl<2.0,>=1.0 in /home/ubcc7c1cfe313981868d5a1db6a845d4/.local/lib/python3.9/site-packages (from aiohttp->openai) (1.9.2)\n",
      "Requirement already satisfied: frozenlist>=1.1.1 in /home/ubcc7c1cfe313981868d5a1db6a845d4/.local/lib/python3.9/site-packages (from aiohttp->openai) (1.4.0)\n",
      "Requirement already satisfied: aiosignal>=1.1.2 in /home/ubcc7c1cfe313981868d5a1db6a845d4/.local/lib/python3.9/site-packages (from aiohttp->openai) (1.3.1)\n"
     ]
    }
   ],
   "source": [
    "!pip install openai"
   ]
  },
  {
   "cell_type": "code",
   "execution_count": 2,
   "metadata": {
    "id": "wvmfdYUZj3zi"
   },
   "outputs": [
    {
     "name": "stdout",
     "output_type": "stream",
     "text": [
      "Defaulting to user installation because normal site-packages is not writeable\n",
      "Requirement already satisfied: langchain in /home/ubcc7c1cfe313981868d5a1db6a845d4/.local/lib/python3.9/site-packages (0.0.325)\n",
      "Requirement already satisfied: PyYAML>=5.3 in /opt/intel/oneapi/intelpython/python3.9/lib/python3.9/site-packages (from langchain) (6.0)\n",
      "Requirement already satisfied: SQLAlchemy<3,>=1.4 in /home/ubcc7c1cfe313981868d5a1db6a845d4/.local/lib/python3.9/site-packages (from langchain) (2.0.22)\n",
      "Requirement already satisfied: aiohttp<4.0.0,>=3.8.3 in /home/ubcc7c1cfe313981868d5a1db6a845d4/.local/lib/python3.9/site-packages (from langchain) (3.8.6)\n",
      "Requirement already satisfied: anyio<4.0 in /home/ubcc7c1cfe313981868d5a1db6a845d4/.local/lib/python3.9/site-packages (from langchain) (3.7.1)\n",
      "Requirement already satisfied: async-timeout<5.0.0,>=4.0.0 in /home/ubcc7c1cfe313981868d5a1db6a845d4/.local/lib/python3.9/site-packages (from langchain) (4.0.3)\n",
      "Requirement already satisfied: dataclasses-json<0.7,>=0.5.7 in /home/ubcc7c1cfe313981868d5a1db6a845d4/.local/lib/python3.9/site-packages (from langchain) (0.6.1)\n",
      "Requirement already satisfied: jsonpatch<2.0,>=1.33 in /home/ubcc7c1cfe313981868d5a1db6a845d4/.local/lib/python3.9/site-packages (from langchain) (1.33)\n",
      "Requirement already satisfied: langsmith<0.1.0,>=0.0.52 in /home/ubcc7c1cfe313981868d5a1db6a845d4/.local/lib/python3.9/site-packages (from langchain) (0.0.53)\n",
      "Requirement already satisfied: numpy<2,>=1 in /opt/intel/oneapi/intelpython/python3.9/lib/python3.9/site-packages (from langchain) (1.24.3)\n",
      "Requirement already satisfied: pydantic<3,>=1 in /home/ubcc7c1cfe313981868d5a1db6a845d4/.local/lib/python3.9/site-packages (from langchain) (2.4.2)\n",
      "Requirement already satisfied: requests<3,>=2 in /opt/intel/oneapi/intelpython/python3.9/lib/python3.9/site-packages (from langchain) (2.31.0)\n",
      "Requirement already satisfied: tenacity<9.0.0,>=8.1.0 in /home/ubcc7c1cfe313981868d5a1db6a845d4/.local/lib/python3.9/site-packages (from langchain) (8.2.3)\n",
      "Requirement already satisfied: attrs>=17.3.0 in /home/ubcc7c1cfe313981868d5a1db6a845d4/.local/lib/python3.9/site-packages (from aiohttp<4.0.0,>=3.8.3->langchain) (23.1.0)\n",
      "Requirement already satisfied: charset-normalizer<4.0,>=2.0 in /opt/intel/oneapi/intelpython/python3.9/lib/python3.9/site-packages (from aiohttp<4.0.0,>=3.8.3->langchain) (3.1.0)\n",
      "Requirement already satisfied: multidict<7.0,>=4.5 in /home/ubcc7c1cfe313981868d5a1db6a845d4/.local/lib/python3.9/site-packages (from aiohttp<4.0.0,>=3.8.3->langchain) (6.0.4)\n",
      "Requirement already satisfied: yarl<2.0,>=1.0 in /home/ubcc7c1cfe313981868d5a1db6a845d4/.local/lib/python3.9/site-packages (from aiohttp<4.0.0,>=3.8.3->langchain) (1.9.2)\n",
      "Requirement already satisfied: frozenlist>=1.1.1 in /home/ubcc7c1cfe313981868d5a1db6a845d4/.local/lib/python3.9/site-packages (from aiohttp<4.0.0,>=3.8.3->langchain) (1.4.0)\n",
      "Requirement already satisfied: aiosignal>=1.1.2 in /home/ubcc7c1cfe313981868d5a1db6a845d4/.local/lib/python3.9/site-packages (from aiohttp<4.0.0,>=3.8.3->langchain) (1.3.1)\n",
      "Requirement already satisfied: idna>=2.8 in /opt/intel/oneapi/intelpython/python3.9/lib/python3.9/site-packages (from anyio<4.0->langchain) (3.4)\n",
      "Requirement already satisfied: sniffio>=1.1 in /home/ubcc7c1cfe313981868d5a1db6a845d4/.local/lib/python3.9/site-packages (from anyio<4.0->langchain) (1.3.0)\n",
      "Requirement already satisfied: exceptiongroup in /opt/intel/oneapi/intelpython/python3.9/lib/python3.9/site-packages (from anyio<4.0->langchain) (1.0.4)\n",
      "Requirement already satisfied: marshmallow<4.0.0,>=3.18.0 in /home/ubcc7c1cfe313981868d5a1db6a845d4/.local/lib/python3.9/site-packages (from dataclasses-json<0.7,>=0.5.7->langchain) (3.20.1)\n",
      "Requirement already satisfied: typing-inspect<1,>=0.4.0 in /home/ubcc7c1cfe313981868d5a1db6a845d4/.local/lib/python3.9/site-packages (from dataclasses-json<0.7,>=0.5.7->langchain) (0.9.0)\n",
      "Requirement already satisfied: jsonpointer>=1.9 in /opt/intel/oneapi/intelpython/python3.9/lib/python3.9/site-packages (from jsonpatch<2.0,>=1.33->langchain) (2.0)\n",
      "Requirement already satisfied: annotated-types>=0.4.0 in /home/ubcc7c1cfe313981868d5a1db6a845d4/.local/lib/python3.9/site-packages (from pydantic<3,>=1->langchain) (0.6.0)\n",
      "Requirement already satisfied: pydantic-core==2.10.1 in /home/ubcc7c1cfe313981868d5a1db6a845d4/.local/lib/python3.9/site-packages (from pydantic<3,>=1->langchain) (2.10.1)\n",
      "Requirement already satisfied: typing-extensions>=4.6.1 in /opt/intel/oneapi/intelpython/python3.9/lib/python3.9/site-packages (from pydantic<3,>=1->langchain) (4.6.3)\n",
      "Requirement already satisfied: urllib3<3,>=1.21.1 in /opt/intel/oneapi/intelpython/python3.9/lib/python3.9/site-packages (from requests<3,>=2->langchain) (2.0.3)\n",
      "Requirement already satisfied: certifi>=2017.4.17 in /opt/intel/oneapi/intelpython/python3.9/lib/python3.9/site-packages (from requests<3,>=2->langchain) (2023.7.22)\n",
      "Requirement already satisfied: greenlet!=0.4.17 in /home/ubcc7c1cfe313981868d5a1db6a845d4/.local/lib/python3.9/site-packages (from SQLAlchemy<3,>=1.4->langchain) (3.0.1)\n",
      "Requirement already satisfied: packaging>=17.0 in /opt/intel/oneapi/intelpython/python3.9/lib/python3.9/site-packages (from marshmallow<4.0.0,>=3.18.0->dataclasses-json<0.7,>=0.5.7->langchain) (23.1)\n",
      "Requirement already satisfied: mypy-extensions>=0.3.0 in /home/ubcc7c1cfe313981868d5a1db6a845d4/.local/lib/python3.9/site-packages (from typing-inspect<1,>=0.4.0->dataclasses-json<0.7,>=0.5.7->langchain) (1.0.0)\n",
      "Note: you may need to restart the kernel to use updated packages.\n"
     ]
    }
   ],
   "source": [
    "pip install langchain"
   ]
  },
  {
   "cell_type": "code",
   "execution_count": 3,
   "metadata": {
    "id": "D925d9F-kHLE"
   },
   "outputs": [],
   "source": [
    "from langchain.llms import OpenAI\n",
    "from langchain.chat_models import ChatOpenAI\n",
    "\n",
    "import os\n",
    "\n",
    "f = open('key.txt')\n",
    "api_key = f.read()\n",
    "\n",
    "llm = OpenAI(openai_api_key=api_key)"
   ]
  },
  {
   "cell_type": "code",
   "execution_count": 4,
   "metadata": {
    "id": "xYEnSgc9kbko"
   },
   "outputs": [],
   "source": [
    "from langchain.chat_models import ChatOpenAI\n",
    "from langchain.prompts.chat import ChatPromptTemplate,HumanMessagePromptTemplate\n",
    "\n",
    "human_prompt =HumanMessagePromptTemplate.from_template('I want to know more facts on Cricket Game:{product}')\n",
    "chat_prompt_template=ChatPromptTemplate.from_messages([human_prompt])\n",
    "\n",
    "chat =ChatOpenAI(openai_api_key=api_key)\n",
    "from langchain.chains import LLMChain\n",
    "chain =LLMChain(llm=chat,prompt=chat_prompt_template)\n",
    "result =chain.run(product='Wickets')"
   ]
  },
  {
   "cell_type": "code",
   "execution_count": 5,
   "metadata": {
    "id": "g0epBLrlojcO"
   },
   "outputs": [
    {
     "data": {
      "text/plain": [
       "'1. In cricket, a wicket refers to one of the three vertical stumps, which are usually made of wood and are placed at each end of the pitch.\\n\\n2. Each wicket consists of three stumps, which are cylindrical in shape and approximately 28 inches in height. The stumps are usually around 1.38 inches in diameter and are driven into the ground.\\n\\n3. The stumps are connected by two bails, which sit on top of the stumps. The bails are small wooden pieces, approximately 4.33 inches in length, that balance on top of the stumps.\\n\\n4. The primary objective of the bowling team is to hit the wickets with the ball, causing the bails to dislodge from the stumps. This is known as \"taking a wicket\" or \"getting a batsman out.\"\\n\\n5. If a bowler successfully hits the wickets and dislodges the bails, the batsman is considered to be out. This can happen in various ways, such as the ball hitting the stumps directly, the bails being knocked off by the ball, or the batsman\\'s body or equipment hitting the stumps.\\n\\n6. The fielding team can also get a batsman out by catching the ball after the batsman hits it and before it touches the ground. If this happens, the batsman is said to be \"caught\" and is considered out.\\n\\n7. When a wicket is taken, the fielding team celebrates by appealing to the umpire. The umpire then decides whether the batsman is out or not based on the rules of the game.\\n\\n8. If a batsman is not out after an appeal, the batting team continues their innings, and the wickets remain intact. However, if a batsman is out, the next batsman in the batting order replaces them at the crease.\\n\\n9. In a cricket match, a team\\'s goal is to take all ten wickets of the opposing team to dismiss them and end their batting innings.\\n\\n10. In limited-overs cricket, each team has a set number of wickets, typically ten, to score as many runs as possible within a specified number of overs. If a team loses all their wickets before completing the overs, their innings ends.'"
      ]
     },
     "execution_count": 5,
     "metadata": {},
     "output_type": "execute_result"
    }
   ],
   "source": [
    "result"
   ]
  },
  {
   "cell_type": "code",
   "execution_count": 6,
   "metadata": {
    "id": "okCSbKUFoqOJ"
   },
   "outputs": [
    {
     "name": "stdout",
     "output_type": "stream",
     "text": [
      "1. In cricket, a wicket refers to one of the three vertical stumps, which are usually made of wood and are placed at each end of the pitch.\n",
      "\n",
      "2. Each wicket consists of three stumps, which are cylindrical in shape and approximately 28 inches in height. The stumps are usually around 1.38 inches in diameter and are driven into the ground.\n",
      "\n",
      "3. The stumps are connected by two bails, which sit on top of the stumps. The bails are small wooden pieces, approximately 4.33 inches in length, that balance on top of the stumps.\n",
      "\n",
      "4. The primary objective of the bowling team is to hit the wickets with the ball, causing the bails to dislodge from the stumps. This is known as \"taking a wicket\" or \"getting a batsman out.\"\n",
      "\n",
      "5. If a bowler successfully hits the wickets and dislodges the bails, the batsman is considered to be out. This can happen in various ways, such as the ball hitting the stumps directly, the bails being knocked off by the ball, or the batsman's body or equipment hitting the stumps.\n",
      "\n",
      "6. The fielding team can also get a batsman out by catching the ball after the batsman hits it and before it touches the ground. If this happens, the batsman is said to be \"caught\" and is considered out.\n",
      "\n",
      "7. When a wicket is taken, the fielding team celebrates by appealing to the umpire. The umpire then decides whether the batsman is out or not based on the rules of the game.\n",
      "\n",
      "8. If a batsman is not out after an appeal, the batting team continues their innings, and the wickets remain intact. However, if a batsman is out, the next batsman in the batting order replaces them at the crease.\n",
      "\n",
      "9. In a cricket match, a team's goal is to take all ten wickets of the opposing team to dismiss them and end their batting innings.\n",
      "\n",
      "10. In limited-overs cricket, each team has a set number of wickets, typically ten, to score as many runs as possible within a specified number of overs. If a team loses all their wickets before completing the overs, their innings ends.\n"
     ]
    }
   ],
   "source": [
    "print(result)"
   ]
  },
  {
   "cell_type": "code",
   "execution_count": null,
   "metadata": {},
   "outputs": [],
   "source": []
  }
 ],
 "metadata": {
  "colab": {
   "private_outputs": true,
   "provenance": []
  },
  "kernelspec": {
   "display_name": "base",
   "language": "python",
   "name": "base"
  },
  "language_info": {
   "codemirror_mode": {
    "name": "ipython",
    "version": 3
   },
   "file_extension": ".py",
   "mimetype": "text/x-python",
   "name": "python",
   "nbconvert_exporter": "python",
   "pygments_lexer": "ipython3",
   "version": "3.9.16"
  }
 },
 "nbformat": 4,
 "nbformat_minor": 4
}
