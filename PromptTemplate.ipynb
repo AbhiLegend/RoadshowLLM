{
 "cells": [
  {
   "cell_type": "code",
   "execution_count": 1,
   "id": "7d8f67ba-1b38-4840-a523-efb864c914af",
   "metadata": {},
   "outputs": [],
   "source": [
    "#Prompt Template\n"
   ]
  },
  {
   "cell_type": "code",
   "execution_count": 2,
   "id": "aad2d60d-8d63-4d34-8a90-aabae84614a1",
   "metadata": {},
   "outputs": [
    {
     "data": {
      "text/plain": [
       "'Tell me a fact about a cricket ball'"
      ]
     },
     "execution_count": 2,
     "metadata": {},
     "output_type": "execute_result"
    }
   ],
   "source": [
    "#Language Model Templates\n",
    "#No input variable\n",
    "from langchain import PromptTemplate\n",
    "\n",
    "# An example prompt with no input variables\n",
    "no_input_prompt = PromptTemplate(input_variables=[], template=\"Tell me a fact about a cricket ball\")\n",
    "no_input_prompt.format()\n",
    "\n"
   ]
  },
  {
   "cell_type": "code",
   "execution_count": 3,
   "id": "7b4d56a7-b66d-41c6-b523-d7e1f9af1cf3",
   "metadata": {},
   "outputs": [],
   "source": [
    "#using inside LLM response that is OpenAI Model\n",
    "import os\n",
    "\n",
    "f = open('key.txt')\n",
    "api_key = f.read()\n",
    "from langchain.llms import OpenAI\n",
    "from langchain.chat_models import ChatOpenAI\n",
    "\n",
    "llm = OpenAI(openai_api_key=api_key)\n",
    "\n"
   ]
  },
  {
   "cell_type": "code",
   "execution_count": 4,
   "id": "1624dd15-d3ac-4b14-ac0a-54539cd03984",
   "metadata": {
    "scrolled": true
   },
   "outputs": [
    {
     "name": "stdout",
     "output_type": "stream",
     "text": [
      "\n",
      "\n",
      "Cricket balls are made of cork, layered with tightly wound string, and covered in leather. The weight of a cricket ball ranges from 155.9 to 163 grams.\n"
     ]
    }
   ],
   "source": [
    "print(llm(no_input_prompt.format()))"
   ]
  },
  {
   "cell_type": "code",
   "execution_count": 6,
   "id": "311b522f-36b2-4527-9f6f-eca0ab9c4e79",
   "metadata": {},
   "outputs": [
    {
     "name": "stdout",
     "output_type": "stream",
     "text": [
      "\n",
      "\n",
      "Shoaib Akhtar is widely regarded as the fastest bowler in the history of cricket, having been timed at a top speed of 161.3 km/h (100.2 mph) in a 2003 Cricket World Cup match against England. He is the only bowler to have taken more than 500 wickets in international cricket. He has taken the most wickets in a single World Cup tournament, with 21 wickets in the 2003 tournament.\n"
     ]
    }
   ],
   "source": [
    "#single input variable\n",
    "# An example prompt with one input variable\n",
    "one_input_prompt = PromptTemplate(input_variables=[\"topic\"], template=\"Tell me a fact about {topic}.\")\n",
    "# Notice how the stirng \"topic\" gets automatically converted to a parameter name, very convienent! \n",
    "r =one_input_prompt.format(topic=\"Shoaib Akhtar\")\n",
    "\n",
    "print(llm(r))"
   ]
  },
  {
   "cell_type": "code",
   "execution_count": 7,
   "id": "b7158514-3a03-4e0c-a4b9-8cf1a910b47c",
   "metadata": {},
   "outputs": [
    {
     "name": "stdout",
     "output_type": "stream",
     "text": [
      "\n",
      "\n",
      "In the Ranji Trophy, each team is allowed to field only four overseas players in their playing XI.\n"
     ]
    }
   ],
   "source": [
    "#Multiple Variables\n",
    "# An example prompt with multiple input variables\n",
    "multiple_input_prompt = PromptTemplate(\n",
    "    input_variables=[\"topic\", \"level\"], \n",
    "    template=\"Tell me a fact about {topic} for a 1st grade {level} level.\"\n",
    ")\n",
    "m=multiple_input_prompt.format(topic='Cricket',level='Ranji Trophy')\n",
    "print(llm(m))"
   ]
  },
  {
   "cell_type": "code",
   "execution_count": null,
   "id": "d2ecc9f8-8f1e-47c9-8656-edc6ea17914e",
   "metadata": {},
   "outputs": [],
   "source": []
  }
 ],
 "metadata": {
  "kernelspec": {
   "display_name": "base",
   "language": "python",
   "name": "base"
  },
  "language_info": {
   "codemirror_mode": {
    "name": "ipython",
    "version": 3
   },
   "file_extension": ".py",
   "mimetype": "text/x-python",
   "name": "python",
   "nbconvert_exporter": "python",
   "pygments_lexer": "ipython3",
   "version": "3.9.16"
  }
 },
 "nbformat": 4,
 "nbformat_minor": 5
}
