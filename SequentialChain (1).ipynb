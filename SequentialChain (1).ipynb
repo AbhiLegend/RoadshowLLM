{
 "cells": [
  {
   "cell_type": "code",
   "execution_count": 9,
   "metadata": {
    "id": "I14Ut0j60-O2"
   },
   "outputs": [
    {
     "name": "stdout",
     "output_type": "stream",
     "text": [
      "Defaulting to user installation because normal site-packages is not writeable\n",
      "Requirement already satisfied: openai in /home/ubcc7c1cfe313981868d5a1db6a845d4/.local/lib/python3.9/site-packages (0.28.1)\n",
      "Requirement already satisfied: requests>=2.20 in /opt/intel/oneapi/intelpython/python3.9/lib/python3.9/site-packages (from openai) (2.31.0)\n",
      "Requirement already satisfied: tqdm in /opt/intel/oneapi/intelpython/python3.9/lib/python3.9/site-packages (from openai) (4.65.0)\n",
      "Requirement already satisfied: aiohttp in /home/ubcc7c1cfe313981868d5a1db6a845d4/.local/lib/python3.9/site-packages (from openai) (3.8.6)\n",
      "Requirement already satisfied: charset-normalizer<4,>=2 in /opt/intel/oneapi/intelpython/python3.9/lib/python3.9/site-packages (from requests>=2.20->openai) (3.1.0)\n",
      "Requirement already satisfied: idna<4,>=2.5 in /opt/intel/oneapi/intelpython/python3.9/lib/python3.9/site-packages (from requests>=2.20->openai) (3.4)\n",
      "Requirement already satisfied: urllib3<3,>=1.21.1 in /opt/intel/oneapi/intelpython/python3.9/lib/python3.9/site-packages (from requests>=2.20->openai) (2.0.3)\n",
      "Requirement already satisfied: certifi>=2017.4.17 in /opt/intel/oneapi/intelpython/python3.9/lib/python3.9/site-packages (from requests>=2.20->openai) (2023.7.22)\n",
      "Requirement already satisfied: attrs>=17.3.0 in /home/ubcc7c1cfe313981868d5a1db6a845d4/.local/lib/python3.9/site-packages (from aiohttp->openai) (23.1.0)\n",
      "Requirement already satisfied: multidict<7.0,>=4.5 in /home/ubcc7c1cfe313981868d5a1db6a845d4/.local/lib/python3.9/site-packages (from aiohttp->openai) (6.0.4)\n",
      "Requirement already satisfied: async-timeout<5.0,>=4.0.0a3 in /home/ubcc7c1cfe313981868d5a1db6a845d4/.local/lib/python3.9/site-packages (from aiohttp->openai) (4.0.3)\n",
      "Requirement already satisfied: yarl<2.0,>=1.0 in /home/ubcc7c1cfe313981868d5a1db6a845d4/.local/lib/python3.9/site-packages (from aiohttp->openai) (1.9.2)\n",
      "Requirement already satisfied: frozenlist>=1.1.1 in /home/ubcc7c1cfe313981868d5a1db6a845d4/.local/lib/python3.9/site-packages (from aiohttp->openai) (1.4.0)\n",
      "Requirement already satisfied: aiosignal>=1.1.2 in /home/ubcc7c1cfe313981868d5a1db6a845d4/.local/lib/python3.9/site-packages (from aiohttp->openai) (1.3.1)\n"
     ]
    }
   ],
   "source": [
    "!pip install openai"
   ]
  },
  {
   "cell_type": "code",
   "execution_count": 10,
   "metadata": {
    "id": "fqed1hx61w8I"
   },
   "outputs": [
    {
     "name": "stdout",
     "output_type": "stream",
     "text": [
      "Defaulting to user installation because normal site-packages is not writeable\n",
      "Requirement already satisfied: langchain in /home/ubcc7c1cfe313981868d5a1db6a845d4/.local/lib/python3.9/site-packages (0.0.325)\n",
      "Requirement already satisfied: PyYAML>=5.3 in /opt/intel/oneapi/intelpython/python3.9/lib/python3.9/site-packages (from langchain) (6.0)\n",
      "Requirement already satisfied: SQLAlchemy<3,>=1.4 in /home/ubcc7c1cfe313981868d5a1db6a845d4/.local/lib/python3.9/site-packages (from langchain) (2.0.22)\n",
      "Requirement already satisfied: aiohttp<4.0.0,>=3.8.3 in /home/ubcc7c1cfe313981868d5a1db6a845d4/.local/lib/python3.9/site-packages (from langchain) (3.8.6)\n",
      "Requirement already satisfied: anyio<4.0 in /home/ubcc7c1cfe313981868d5a1db6a845d4/.local/lib/python3.9/site-packages (from langchain) (3.7.1)\n",
      "Requirement already satisfied: async-timeout<5.0.0,>=4.0.0 in /home/ubcc7c1cfe313981868d5a1db6a845d4/.local/lib/python3.9/site-packages (from langchain) (4.0.3)\n",
      "Requirement already satisfied: dataclasses-json<0.7,>=0.5.7 in /home/ubcc7c1cfe313981868d5a1db6a845d4/.local/lib/python3.9/site-packages (from langchain) (0.6.1)\n",
      "Requirement already satisfied: jsonpatch<2.0,>=1.33 in /home/ubcc7c1cfe313981868d5a1db6a845d4/.local/lib/python3.9/site-packages (from langchain) (1.33)\n",
      "Requirement already satisfied: langsmith<0.1.0,>=0.0.52 in /home/ubcc7c1cfe313981868d5a1db6a845d4/.local/lib/python3.9/site-packages (from langchain) (0.0.53)\n",
      "Requirement already satisfied: numpy<2,>=1 in /opt/intel/oneapi/intelpython/python3.9/lib/python3.9/site-packages (from langchain) (1.24.3)\n",
      "Requirement already satisfied: pydantic<3,>=1 in /home/ubcc7c1cfe313981868d5a1db6a845d4/.local/lib/python3.9/site-packages (from langchain) (2.4.2)\n",
      "Requirement already satisfied: requests<3,>=2 in /opt/intel/oneapi/intelpython/python3.9/lib/python3.9/site-packages (from langchain) (2.31.0)\n",
      "Requirement already satisfied: tenacity<9.0.0,>=8.1.0 in /home/ubcc7c1cfe313981868d5a1db6a845d4/.local/lib/python3.9/site-packages (from langchain) (8.2.3)\n",
      "Requirement already satisfied: attrs>=17.3.0 in /home/ubcc7c1cfe313981868d5a1db6a845d4/.local/lib/python3.9/site-packages (from aiohttp<4.0.0,>=3.8.3->langchain) (23.1.0)\n",
      "Requirement already satisfied: charset-normalizer<4.0,>=2.0 in /opt/intel/oneapi/intelpython/python3.9/lib/python3.9/site-packages (from aiohttp<4.0.0,>=3.8.3->langchain) (3.1.0)\n",
      "Requirement already satisfied: multidict<7.0,>=4.5 in /home/ubcc7c1cfe313981868d5a1db6a845d4/.local/lib/python3.9/site-packages (from aiohttp<4.0.0,>=3.8.3->langchain) (6.0.4)\n",
      "Requirement already satisfied: yarl<2.0,>=1.0 in /home/ubcc7c1cfe313981868d5a1db6a845d4/.local/lib/python3.9/site-packages (from aiohttp<4.0.0,>=3.8.3->langchain) (1.9.2)\n",
      "Requirement already satisfied: frozenlist>=1.1.1 in /home/ubcc7c1cfe313981868d5a1db6a845d4/.local/lib/python3.9/site-packages (from aiohttp<4.0.0,>=3.8.3->langchain) (1.4.0)\n",
      "Requirement already satisfied: aiosignal>=1.1.2 in /home/ubcc7c1cfe313981868d5a1db6a845d4/.local/lib/python3.9/site-packages (from aiohttp<4.0.0,>=3.8.3->langchain) (1.3.1)\n",
      "Requirement already satisfied: idna>=2.8 in /opt/intel/oneapi/intelpython/python3.9/lib/python3.9/site-packages (from anyio<4.0->langchain) (3.4)\n",
      "Requirement already satisfied: sniffio>=1.1 in /home/ubcc7c1cfe313981868d5a1db6a845d4/.local/lib/python3.9/site-packages (from anyio<4.0->langchain) (1.3.0)\n",
      "Requirement already satisfied: exceptiongroup in /opt/intel/oneapi/intelpython/python3.9/lib/python3.9/site-packages (from anyio<4.0->langchain) (1.0.4)\n",
      "Requirement already satisfied: marshmallow<4.0.0,>=3.18.0 in /home/ubcc7c1cfe313981868d5a1db6a845d4/.local/lib/python3.9/site-packages (from dataclasses-json<0.7,>=0.5.7->langchain) (3.20.1)\n",
      "Requirement already satisfied: typing-inspect<1,>=0.4.0 in /home/ubcc7c1cfe313981868d5a1db6a845d4/.local/lib/python3.9/site-packages (from dataclasses-json<0.7,>=0.5.7->langchain) (0.9.0)\n",
      "Requirement already satisfied: jsonpointer>=1.9 in /opt/intel/oneapi/intelpython/python3.9/lib/python3.9/site-packages (from jsonpatch<2.0,>=1.33->langchain) (2.0)\n",
      "Requirement already satisfied: annotated-types>=0.4.0 in /home/ubcc7c1cfe313981868d5a1db6a845d4/.local/lib/python3.9/site-packages (from pydantic<3,>=1->langchain) (0.6.0)\n",
      "Requirement already satisfied: pydantic-core==2.10.1 in /home/ubcc7c1cfe313981868d5a1db6a845d4/.local/lib/python3.9/site-packages (from pydantic<3,>=1->langchain) (2.10.1)\n",
      "Requirement already satisfied: typing-extensions>=4.6.1 in /opt/intel/oneapi/intelpython/python3.9/lib/python3.9/site-packages (from pydantic<3,>=1->langchain) (4.6.3)\n",
      "Requirement already satisfied: urllib3<3,>=1.21.1 in /opt/intel/oneapi/intelpython/python3.9/lib/python3.9/site-packages (from requests<3,>=2->langchain) (2.0.3)\n",
      "Requirement already satisfied: certifi>=2017.4.17 in /opt/intel/oneapi/intelpython/python3.9/lib/python3.9/site-packages (from requests<3,>=2->langchain) (2023.7.22)\n",
      "Requirement already satisfied: greenlet!=0.4.17 in /home/ubcc7c1cfe313981868d5a1db6a845d4/.local/lib/python3.9/site-packages (from SQLAlchemy<3,>=1.4->langchain) (3.0.1)\n",
      "Requirement already satisfied: packaging>=17.0 in /opt/intel/oneapi/intelpython/python3.9/lib/python3.9/site-packages (from marshmallow<4.0.0,>=3.18.0->dataclasses-json<0.7,>=0.5.7->langchain) (23.1)\n",
      "Requirement already satisfied: mypy-extensions>=0.3.0 in /home/ubcc7c1cfe313981868d5a1db6a845d4/.local/lib/python3.9/site-packages (from typing-inspect<1,>=0.4.0->dataclasses-json<0.7,>=0.5.7->langchain) (1.0.0)\n",
      "Note: you may need to restart the kernel to use updated packages.\n"
     ]
    }
   ],
   "source": [
    "pip install langchain"
   ]
  },
  {
   "cell_type": "code",
   "execution_count": 11,
   "metadata": {
    "id": "dnVOyjBp16Z5"
   },
   "outputs": [],
   "source": [
    "import os\n",
    "\n",
    "f = open(r'key.txt')\n",
    "api_key = f.read()"
   ]
  },
  {
   "cell_type": "code",
   "execution_count": 12,
   "metadata": {
    "id": "qNZ99zBhEyDD"
   },
   "outputs": [],
   "source": [
    "from langchain.chat_models import ChatOpenAI\n",
    "from langchain.prompts.chat import ChatPromptTemplate,HumanMessagePromptTemplate\n",
    "from langchain.chains import LLMChain,SimpleSequentialChain"
   ]
  },
  {
   "cell_type": "code",
   "execution_count": 13,
   "metadata": {
    "id": "ezcKvfjjLVxy"
   },
   "outputs": [],
   "source": [
    "chat =ChatOpenAI(openai_api_key=api_key)"
   ]
  },
  {
   "cell_type": "code",
   "execution_count": 14,
   "metadata": {
    "id": "E5WEzRL5LbT-"
   },
   "outputs": [],
   "source": [
    "template = \"Give me a simple bullet point outline for a blog post {topic}\"\n",
    "first_prompt = ChatPromptTemplate.from_template(template)\n",
    "chain_one = LLMChain(llm=chat,prompt=first_prompt)\n",
    "\n",
    "template2 = \"Write a blog post using the {outline}\"\n",
    "second_prompt = ChatPromptTemplate.from_template(template)\n",
    "chain_two = LLMChain(llm=chat,prompt=second_prompt)"
   ]
  },
  {
   "cell_type": "code",
   "execution_count": 15,
   "metadata": {
    "id": "jBi9iYNEL7wR"
   },
   "outputs": [
    {
     "name": "stdout",
     "output_type": "stream",
     "text": [
      "\n",
      "\n",
      "\u001b[1m> Entering new SimpleSequentialChain chain...\u001b[0m\n",
      "\u001b[36;1m\u001b[1;3m- Introduction: The historic victory of India in the 2011 Cricket World Cup\n",
      "- Overview of the tournament: Highlighting the participating teams and key moments\n",
      "- Team India's journey: Discussing their performance in the group stage and knockout matches\n",
      "- Key players: Highlighting the contributions of players like Sachin Tendulkar, MS Dhoni, and Yuvraj Singh\n",
      "- Memorable matches: Recounting some of the most thrilling encounters of the tournament\n",
      "- The final match: Describing the intense showdown between India and Sri Lanka\n",
      "- India's triumph: Detailing the heroic efforts of MS Dhoni and Gautam Gambhir in leading India to victory\n",
      "- Celebrations and aftermath: Discussing the nationwide celebrations and the impact of the win on Indian cricket\n",
      "- Legacy of the 2011 World Cup win: Analyzing the long-lasting effects and inspiration for future generations\n",
      "- Conclusion: Reflecting on the significance of India's triumph in the 2011 Cricket World Cup\u001b[0m\n",
      "\u001b[33;1m\u001b[1;3m- Introduction: The historic victory of India in the 2011 Cricket World Cup\n",
      "- Overview of the tournament: Highlighting the participating teams and key moments\n",
      "- Team India's journey: Discussing their performance in the group stage and knockout matches\n",
      "- Key players: Highlighting the contributions of players like Sachin Tendulkar, MS Dhoni, and Yuvraj Singh\n",
      "- Memorable matches: Recounting some of the most thrilling encounters of the tournament\n",
      "- The final match: Describing the intense showdown between India and Sri Lanka\n",
      "- India's triumph: Detailing the heroic efforts of MS Dhoni and Gautam Gambhir in leading India to victory\n",
      "- Celebrations and aftermath: Discussing the nationwide celebrations and the impact of the win on Indian cricket\n",
      "- Legacy of the 2011 World Cup win: Analyzing the long-lasting effects and inspiration for future generations\n",
      "- Conclusion: Reflecting on the significance of India's triumph in the 2011 Cricket World Cup\u001b[0m\n",
      "\n",
      "\u001b[1m> Finished chain.\u001b[0m\n"
     ]
    }
   ],
   "source": [
    "\n",
    "full_chain = SimpleSequentialChain(chains=[chain_one,chain_two],verbose=True)\n",
    "result = full_chain.run('Worldcup2011winCricket')"
   ]
  },
  {
   "cell_type": "code",
   "execution_count": 16,
   "metadata": {
    "id": "6bsl_I-VMSpx"
   },
   "outputs": [
    {
     "name": "stdout",
     "output_type": "stream",
     "text": [
      "- Introduction: The historic victory of India in the 2011 Cricket World Cup\n",
      "- Overview of the tournament: Highlighting the participating teams and key moments\n",
      "- Team India's journey: Discussing their performance in the group stage and knockout matches\n",
      "- Key players: Highlighting the contributions of players like Sachin Tendulkar, MS Dhoni, and Yuvraj Singh\n",
      "- Memorable matches: Recounting some of the most thrilling encounters of the tournament\n",
      "- The final match: Describing the intense showdown between India and Sri Lanka\n",
      "- India's triumph: Detailing the heroic efforts of MS Dhoni and Gautam Gambhir in leading India to victory\n",
      "- Celebrations and aftermath: Discussing the nationwide celebrations and the impact of the win on Indian cricket\n",
      "- Legacy of the 2011 World Cup win: Analyzing the long-lasting effects and inspiration for future generations\n",
      "- Conclusion: Reflecting on the significance of India's triumph in the 2011 Cricket World Cup\n"
     ]
    }
   ],
   "source": [
    "print(result)"
   ]
  },
  {
   "cell_type": "code",
   "execution_count": null,
   "metadata": {},
   "outputs": [],
   "source": []
  }
 ],
 "metadata": {
  "colab": {
   "private_outputs": true,
   "provenance": []
  },
  "kernelspec": {
   "display_name": "base",
   "language": "python",
   "name": "base"
  },
  "language_info": {
   "codemirror_mode": {
    "name": "ipython",
    "version": 3
   },
   "file_extension": ".py",
   "mimetype": "text/x-python",
   "name": "python",
   "nbconvert_exporter": "python",
   "pygments_lexer": "ipython3",
   "version": "3.9.16"
  }
 },
 "nbformat": 4,
 "nbformat_minor": 4
}
