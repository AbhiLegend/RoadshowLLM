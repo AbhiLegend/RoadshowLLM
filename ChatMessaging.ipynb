{
 "cells": [
  {
   "cell_type": "code",
   "execution_count": 1,
   "id": "7d109f0f-2251-4a6c-9878-0583832e7195",
   "metadata": {},
   "outputs": [
    {
     "name": "stdout",
     "output_type": "stream",
     "text": [
      "Requirement already satisfied: openai in /home/ubcc7c1cfe313981868d5a1db6a845d4/.local/lib/python3.9/site-packages (0.28.1)\n",
      "Requirement already satisfied: requests>=2.20 in /opt/intel/oneapi/intelpython/python3.9/lib/python3.9/site-packages (from openai) (2.31.0)\n",
      "Requirement already satisfied: tqdm in /opt/intel/oneapi/intelpython/python3.9/lib/python3.9/site-packages (from openai) (4.65.0)\n",
      "Requirement already satisfied: aiohttp in /home/ubcc7c1cfe313981868d5a1db6a845d4/.local/lib/python3.9/site-packages (from openai) (3.8.6)\n",
      "Requirement already satisfied: charset-normalizer<4,>=2 in /opt/intel/oneapi/intelpython/python3.9/lib/python3.9/site-packages (from requests>=2.20->openai) (3.1.0)\n",
      "Requirement already satisfied: idna<4,>=2.5 in /opt/intel/oneapi/intelpython/python3.9/lib/python3.9/site-packages (from requests>=2.20->openai) (3.4)\n",
      "Requirement already satisfied: urllib3<3,>=1.21.1 in /opt/intel/oneapi/intelpython/python3.9/lib/python3.9/site-packages (from requests>=2.20->openai) (2.0.3)\n",
      "Requirement already satisfied: certifi>=2017.4.17 in /opt/intel/oneapi/intelpython/python3.9/lib/python3.9/site-packages (from requests>=2.20->openai) (2023.7.22)\n",
      "Requirement already satisfied: attrs>=17.3.0 in /home/ubcc7c1cfe313981868d5a1db6a845d4/.local/lib/python3.9/site-packages (from aiohttp->openai) (23.1.0)\n",
      "Requirement already satisfied: multidict<7.0,>=4.5 in /home/ubcc7c1cfe313981868d5a1db6a845d4/.local/lib/python3.9/site-packages (from aiohttp->openai) (6.0.4)\n",
      "Requirement already satisfied: async-timeout<5.0,>=4.0.0a3 in /home/ubcc7c1cfe313981868d5a1db6a845d4/.local/lib/python3.9/site-packages (from aiohttp->openai) (4.0.3)\n",
      "Requirement already satisfied: yarl<2.0,>=1.0 in /home/ubcc7c1cfe313981868d5a1db6a845d4/.local/lib/python3.9/site-packages (from aiohttp->openai) (1.9.2)\n",
      "Requirement already satisfied: frozenlist>=1.1.1 in /home/ubcc7c1cfe313981868d5a1db6a845d4/.local/lib/python3.9/site-packages (from aiohttp->openai) (1.4.0)\n",
      "Requirement already satisfied: aiosignal>=1.1.2 in /home/ubcc7c1cfe313981868d5a1db6a845d4/.local/lib/python3.9/site-packages (from aiohttp->openai) (1.3.1)\n"
     ]
    }
   ],
   "source": [
    "#Chat Models\n",
    "!pip install openai --user"
   ]
  },
  {
   "cell_type": "code",
   "execution_count": 2,
   "id": "2bea38d3-1223-4e89-93b8-a4cf72a28496",
   "metadata": {},
   "outputs": [
    {
     "name": "stdout",
     "output_type": "stream",
     "text": [
      "Requirement already satisfied: openai in /home/ubcc7c1cfe313981868d5a1db6a845d4/.local/lib/python3.9/site-packages (0.28.1)\n",
      "Requirement already satisfied: requests>=2.20 in /opt/intel/oneapi/intelpython/python3.9/lib/python3.9/site-packages (from openai) (2.31.0)\n",
      "Requirement already satisfied: tqdm in /opt/intel/oneapi/intelpython/python3.9/lib/python3.9/site-packages (from openai) (4.65.0)\n",
      "Requirement already satisfied: aiohttp in /home/ubcc7c1cfe313981868d5a1db6a845d4/.local/lib/python3.9/site-packages (from openai) (3.8.6)\n",
      "Requirement already satisfied: charset-normalizer<4,>=2 in /opt/intel/oneapi/intelpython/python3.9/lib/python3.9/site-packages (from requests>=2.20->openai) (3.1.0)\n",
      "Requirement already satisfied: idna<4,>=2.5 in /opt/intel/oneapi/intelpython/python3.9/lib/python3.9/site-packages (from requests>=2.20->openai) (3.4)\n",
      "Requirement already satisfied: urllib3<3,>=1.21.1 in /opt/intel/oneapi/intelpython/python3.9/lib/python3.9/site-packages (from requests>=2.20->openai) (2.0.3)\n",
      "Requirement already satisfied: certifi>=2017.4.17 in /opt/intel/oneapi/intelpython/python3.9/lib/python3.9/site-packages (from requests>=2.20->openai) (2023.7.22)\n",
      "Requirement already satisfied: attrs>=17.3.0 in /home/ubcc7c1cfe313981868d5a1db6a845d4/.local/lib/python3.9/site-packages (from aiohttp->openai) (23.1.0)\n",
      "Requirement already satisfied: multidict<7.0,>=4.5 in /home/ubcc7c1cfe313981868d5a1db6a845d4/.local/lib/python3.9/site-packages (from aiohttp->openai) (6.0.4)\n",
      "Requirement already satisfied: async-timeout<5.0,>=4.0.0a3 in /home/ubcc7c1cfe313981868d5a1db6a845d4/.local/lib/python3.9/site-packages (from aiohttp->openai) (4.0.3)\n",
      "Requirement already satisfied: yarl<2.0,>=1.0 in /home/ubcc7c1cfe313981868d5a1db6a845d4/.local/lib/python3.9/site-packages (from aiohttp->openai) (1.9.2)\n",
      "Requirement already satisfied: frozenlist>=1.1.1 in /home/ubcc7c1cfe313981868d5a1db6a845d4/.local/lib/python3.9/site-packages (from aiohttp->openai) (1.4.0)\n",
      "Requirement already satisfied: aiosignal>=1.1.2 in /home/ubcc7c1cfe313981868d5a1db6a845d4/.local/lib/python3.9/site-packages (from aiohttp->openai) (1.3.1)\n"
     ]
    }
   ],
   "source": [
    "!pip install openai --user"
   ]
  },
  {
   "cell_type": "code",
   "execution_count": 4,
   "id": "7a207591-366e-4eac-9da4-0d955a0c0b14",
   "metadata": {},
   "outputs": [],
   "source": [
    "import os\n",
    "\n",
    "f = open('key.txt')\n",
    "api_key = f.read()\n",
    "\n",
    "from langchain.chat_models import ChatOpenAI\n",
    "\n",
    "chat = ChatOpenAI(openai_api_key=api_key)"
   ]
  },
  {
   "cell_type": "code",
   "execution_count": 5,
   "id": "6dfd2455-41da-4686-b218-4410f8955c68",
   "metadata": {},
   "outputs": [],
   "source": [
    "#Chat Models are generally comprised of having System Message and a series of Assistant and Human messages\n",
    "from langchain.schema import (\n",
    "    AIMessage,\n",
    "    HumanMessage,\n",
    "    SystemMessage\n",
    ")"
   ]
  },
  {
   "cell_type": "code",
   "execution_count": 6,
   "id": "d3435264-01b7-46d1-b8c0-c868ba0d00bf",
   "metadata": {},
   "outputs": [],
   "source": [
    "result = chat([HumanMessage(content=\"Can you tell me a fact about 2011 Cricket worldcup?\")])"
   ]
  },
  {
   "cell_type": "code",
   "execution_count": 7,
   "id": "4e3ea676-d285-434c-83f5-2c80ecf36a1a",
   "metadata": {},
   "outputs": [
    {
     "data": {
      "text/plain": [
       "AIMessage(content='One interesting fact about the 2011 Cricket World Cup is that it was co-hosted by three countries: India, Sri Lanka, and Bangladesh. This was the first time that Bangladesh co-hosted the tournament. The final match was held in Mumbai, India, where the Indian cricket team emerged as the champions, defeating Sri Lanka in a thrilling match.')"
      ]
     },
     "execution_count": 7,
     "metadata": {},
     "output_type": "execute_result"
    }
   ],
   "source": [
    "result"
   ]
  },
  {
   "cell_type": "code",
   "execution_count": 9,
   "id": "f874ee4b-7a48-4f0d-aebb-079e9dd08928",
   "metadata": {},
   "outputs": [
    {
     "data": {
      "text/plain": [
       "'One interesting fact about the 2011 Cricket World Cup is that it was co-hosted by three countries: India, Sri Lanka, and Bangladesh. This was the first time that Bangladesh co-hosted the tournament. The final match was held in Mumbai, India, where the Indian cricket team emerged as the champions, defeating Sri Lanka in a thrilling match.'"
      ]
     },
     "execution_count": 9,
     "metadata": {},
     "output_type": "execute_result"
    }
   ],
   "source": [
    "#Only the content\n",
    "result.content"
   ]
  },
  {
   "cell_type": "code",
   "execution_count": 14,
   "id": "5d197601-6b38-4530-bf25-f3a60146e3ef",
   "metadata": {},
   "outputs": [],
   "source": [
    "#combining the messages\n",
    "result = chat([SystemMessage(content='On the finals of World cup 2011 I saw Aamir khan watching the match in field is it true?'),\n",
    "               HumanMessage(content='Can you tell me a fact about 2011 Cricket Worldcup?')])"
   ]
  },
  {
   "cell_type": "code",
   "execution_count": 15,
   "id": "44b8ae15-d318-4b3b-ae92-be4285930d8d",
   "metadata": {},
   "outputs": [
    {
     "data": {
      "text/plain": [
       "'Yes, it is true that Aamir Khan was present at the finals of the 2011 Cricket World Cup. He is known to be a cricket enthusiast and has been seen attending various cricket matches in the past. It is not uncommon for celebrities to be spotted at major sporting events, especially when it comes to cricket in India, where it is considered a highly popular and celebrated sport.'"
      ]
     },
     "execution_count": 15,
     "metadata": {},
     "output_type": "execute_result"
    }
   ],
   "source": [
    "result.content"
   ]
  },
  {
   "cell_type": "code",
   "execution_count": 16,
   "id": "8c4f1d69-a04d-4a41-9248-1a01f5008e14",
   "metadata": {},
   "outputs": [],
   "source": [
    "# NEEDS TO BE A LIST!\n",
    "result = chat.generate(\n",
    "                [\n",
    "                [SystemMessage(content='You are a Cricketer'),\n",
    "               HumanMessage(content='Can you tell me how to hold the cricket bat?')]\n",
    "                ]\n",
    "                    )"
   ]
  },
  {
   "cell_type": "code",
   "execution_count": 17,
   "id": "86ab60e7-3437-449c-ae1b-b1280695b556",
   "metadata": {},
   "outputs": [
    {
     "data": {
      "text/plain": [
       "LLMResult(generations=[[ChatGeneration(text='Of course! There are a few variations in how cricketers hold the bat, but generally, the most common grip is as follows:\\n\\n1. Place your non-dominant hand (left hand for a right-handed batsman, right hand for a left-handed batsman) at the top of the handle. Keep your fingers spread out and wrap them around the handle comfortably. The base of your palm should be in contact with the top of the handle.\\n\\n2. Position your dominant hand just below your non-dominant hand, with your fingers wrapped around the handle. Your dominant hand should overlap the little finger of your non-dominant hand.\\n\\n3. Keep a relaxed grip on the handle, ensuring that your fingers are not too tight or too loose. It\\'s important to find a balance that allows you to have control over the bat while still being able to maneuver it effectively.\\n\\n4. The V formed by your thumb and index finger of your top hand should be pointing towards your rear shoulder (right shoulder for a right-handed batsman, left shoulder for a left-handed batsman). This is known as the \"V-Grip\" position.\\n\\n5. Lastly, ensure that both hands are aligned with the bat\\'s face, with the leading edge of the bat facing towards the leg side.\\n\\nRemember, grip is a personal preference, and some batsmen may have variations to suit their style. It\\'s important to practice and find a grip that feels comfortable and allows you to have control over your shots.', generation_info={'finish_reason': 'stop'}, message=AIMessage(content='Of course! There are a few variations in how cricketers hold the bat, but generally, the most common grip is as follows:\\n\\n1. Place your non-dominant hand (left hand for a right-handed batsman, right hand for a left-handed batsman) at the top of the handle. Keep your fingers spread out and wrap them around the handle comfortably. The base of your palm should be in contact with the top of the handle.\\n\\n2. Position your dominant hand just below your non-dominant hand, with your fingers wrapped around the handle. Your dominant hand should overlap the little finger of your non-dominant hand.\\n\\n3. Keep a relaxed grip on the handle, ensuring that your fingers are not too tight or too loose. It\\'s important to find a balance that allows you to have control over the bat while still being able to maneuver it effectively.\\n\\n4. The V formed by your thumb and index finger of your top hand should be pointing towards your rear shoulder (right shoulder for a right-handed batsman, left shoulder for a left-handed batsman). This is known as the \"V-Grip\" position.\\n\\n5. Lastly, ensure that both hands are aligned with the bat\\'s face, with the leading edge of the bat facing towards the leg side.\\n\\nRemember, grip is a personal preference, and some batsmen may have variations to suit their style. It\\'s important to practice and find a grip that feels comfortable and allows you to have control over your shots.'))]], llm_output={'token_usage': {'prompt_tokens': 28, 'completion_tokens': 302, 'total_tokens': 330}, 'model_name': 'gpt-3.5-turbo'}, run=[RunInfo(run_id=UUID('76e9f85d-a0a4-4546-9fa5-3e493de62d40'))])"
      ]
     },
     "execution_count": 17,
     "metadata": {},
     "output_type": "execute_result"
    }
   ],
   "source": [
    "result"
   ]
  },
  {
   "cell_type": "code",
   "execution_count": 19,
   "id": "6cd261aa-5482-42b4-9059-4a50f1ad0f5b",
   "metadata": {},
   "outputs": [
    {
     "data": {
      "text/plain": [
       "{'token_usage': {'prompt_tokens': 28,\n",
       "  'completion_tokens': 302,\n",
       "  'total_tokens': 330},\n",
       " 'model_name': 'gpt-3.5-turbo'}"
      ]
     },
     "execution_count": 19,
     "metadata": {},
     "output_type": "execute_result"
    }
   ],
   "source": [
    "#Token usage\n",
    "result.llm_output"
   ]
  },
  {
   "cell_type": "code",
   "execution_count": 23,
   "id": "729c0004-efa9-41a4-aec7-2e8710e7ed90",
   "metadata": {},
   "outputs": [
    {
     "data": {
      "text/plain": [
       "'Of course! There are a few variations in how cricketers hold the bat, but generally, the most common grip is as follows:\\n\\n1. Place your non-dominant hand (left hand for a right-handed batsman, right hand for a left-handed batsman) at the top of the handle. Keep your fingers spread out and wrap them around the handle comfortably. The base of your palm should be in contact with the top of the handle.\\n\\n2. Position your dominant hand just below your non-dominant hand, with your fingers wrapped around the handle. Your dominant hand should overlap the little finger of your non-dominant hand.\\n\\n3. Keep a relaxed grip on the handle, ensuring that your fingers are not too tight or too loose. It\\'s important to find a balance that allows you to have control over the bat while still being able to maneuver it effectively.\\n\\n4. The V formed by your thumb and index finger of your top hand should be pointing towards your rear shoulder (right shoulder for a right-handed batsman, left shoulder for a left-handed batsman). This is known as the \"V-Grip\" position.\\n\\n5. Lastly, ensure that both hands are aligned with the bat\\'s face, with the leading edge of the bat facing towards the leg side.\\n\\nRemember, grip is a personal preference, and some batsmen may have variations to suit their style. It\\'s important to practice and find a grip that feels comfortable and allows you to have control over your shots.'"
      ]
     },
     "execution_count": 23,
     "metadata": {},
     "output_type": "execute_result"
    }
   ],
   "source": [
    "result.generations[0][0].text"
   ]
  },
  {
   "cell_type": "code",
   "execution_count": 24,
   "id": "f77df306-1d91-4ab1-a800-c78366513491",
   "metadata": {},
   "outputs": [],
   "source": [
    "#Caching\n",
    "import langchain\n",
    "from langchain.chat_models import ChatOpenAI\n",
    "\n",
    "llm = ChatOpenAI(openai_api_key=api_key)"
   ]
  },
  {
   "cell_type": "code",
   "execution_count": 25,
   "id": "628879fb-9b1c-4ecb-b9e9-861a587898a1",
   "metadata": {},
   "outputs": [
    {
     "name": "stdout",
     "output_type": "stream",
     "text": [
      "Time taken: 1.370507001876831 seconds\n"
     ]
    }
   ],
   "source": [
    "import time\n",
    "from langchain.cache import InMemoryCache\n",
    "langchain.llm_cache = InMemoryCache()\n",
    "\n",
    "# The first time, it is not yet in cache, so it should take longer\n",
    "start_time = time.time()\n",
    "llm.predict(\"Tell me a fact about Fastest cricket delivery\")\n",
    "end_time = time.time()\n",
    "\n",
    "# Calculate and print the time taken\n",
    "execution_time = end_time - start_time\n",
    "print(f'Time taken: {execution_time} seconds')\n",
    "\n"
   ]
  },
  {
   "cell_type": "code",
   "execution_count": 26,
   "id": "56a61683-0eed-4399-a828-906a6865be1d",
   "metadata": {},
   "outputs": [
    {
     "name": "stdout",
     "output_type": "stream",
     "text": [
      "Time taken: 0.0006375312805175781 seconds\n"
     ]
    }
   ],
   "source": [
    "import time\n",
    "#from langchain.cache import InMemoryCache\n",
    "#langchain.llm_cache = InMemoryCache()\n",
    "\n",
    "# The first time, it is not yet in cache, so it should take longer\n",
    "start_time = time.time()\n",
    "llm.predict(\"Tell me a fact about Fastest cricket delivery\")\n",
    "end_time = time.time()\n",
    "\n",
    "# Calculate and print the time taken\n",
    "execution_time = end_time - start_time\n",
    "print(f'Time taken: {execution_time} seconds')"
   ]
  },
  {
   "cell_type": "code",
   "execution_count": null,
   "id": "c3502ca3-633c-4e64-8bde-578f8559d992",
   "metadata": {},
   "outputs": [],
   "source": []
  }
 ],
 "metadata": {
  "kernelspec": {
   "display_name": "base",
   "language": "python",
   "name": "base"
  },
  "language_info": {
   "codemirror_mode": {
    "name": "ipython",
    "version": 3
   },
   "file_extension": ".py",
   "mimetype": "text/x-python",
   "name": "python",
   "nbconvert_exporter": "python",
   "pygments_lexer": "ipython3",
   "version": "3.9.16"
  }
 },
 "nbformat": 4,
 "nbformat_minor": 5
}
